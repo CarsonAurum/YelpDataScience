{
 "cells": [
  {
   "cell_type": "markdown",
   "id": "5255c70ef286033c",
   "metadata": {
    "collapsed": false
   },
   "source": [
    "# Exploratory Data Analysis\n",
    "This notebook is focused on configuration, properly importing, and performing basic\n",
    "statistical analysis on the data received. \n",
    "\n",
    "We will start with the basic imports:"
   ]
  },
  {
   "cell_type": "code",
   "execution_count": 1,
   "id": "cdbffe85ceb8ce7a",
   "metadata": {
    "collapsed": false,
    "ExecuteTime": {
     "end_time": "2023-09-25T18:41:24.196447700Z",
     "start_time": "2023-09-25T18:41:24.181479900Z"
    }
   },
   "outputs": [],
   "source": [
    "# Libraries\n",
    "import numpy as np\n",
    "import pandas as pd\n",
    "import matplotlib.pyplot as plt\n",
    "import seaborn as sns"
   ]
  },
  {
   "cell_type": "code",
   "execution_count": 2,
   "id": "d75b7387da69126e",
   "metadata": {
    "collapsed": false,
    "ExecuteTime": {
     "end_time": "2023-09-25T18:41:24.212901400Z",
     "start_time": "2023-09-25T18:41:24.196447700Z"
    }
   },
   "outputs": [],
   "source": [
    "# Utilities\n",
    "import json"
   ]
  },
  {
   "cell_type": "markdown",
   "id": "40fecd353544f833",
   "metadata": {
    "collapsed": false
   },
   "source": [
    "The next task is to import the data. It is stored in a json format across multiple files.\n",
    "\n",
    "*NOTE: Please use the README.md of this repository to determine how the data will be located,\n",
    "as well as a location for downloading the data.*"
   ]
  },
  {
   "cell_type": "code",
   "execution_count": 3,
   "id": "3ebe549629eae2f",
   "metadata": {
    "collapsed": false,
    "ExecuteTime": {
     "end_time": "2023-09-25T18:41:24.230841500Z",
     "start_time": "2023-09-25T18:41:24.212901400Z"
    }
   },
   "outputs": [],
   "source": [
    "# File Locations\n",
    "file_location = 'dataset/data/yelp_academic_dataset_'\n",
    "file_type = '.json'"
   ]
  },
  {
   "cell_type": "markdown",
   "id": "e362ee5a976916d0",
   "metadata": {
    "collapsed": false
   },
   "source": [
    "## Utility Loading Function\n",
    "We are next going to create a utility function called `load_json`. This function is going to facilitate the loading of the \n",
    "complex `.json` data files that cannot be read directly by Pandas. This function will follow this specification:\n",
    "\n",
    "**Description:** It will take a single unlabeled argument that contains the path to the json file containing data to read.\n",
    "\n",
    "**Returns:** It will return a single pandas data frame that contains all data from the provided file.\n",
    "\n",
    "**Errors:** Any errors thrown will be those thrown from the operating system failing to locate/open the file, or invalid creation\n",
    "of a data frame."
   ]
  },
  {
   "cell_type": "code",
   "execution_count": 4,
   "id": "594965bfcfc02b78",
   "metadata": {
    "collapsed": false,
    "ExecuteTime": {
     "end_time": "2023-09-25T18:41:24.251772300Z",
     "start_time": "2023-09-25T18:41:24.228848500Z"
    }
   },
   "outputs": [],
   "source": [
    "def load_json(path, line_limit=None, encoding='utf-8'):\n",
    "    temp = []\n",
    "    with open(path, encoding=encoding) as fl:\n",
    "        for i, line in enumerate(fl):\n",
    "            temp.append(json.loads(line))\n",
    "            if line_limit is not None:\n",
    "                if i + 1 > line_limit:\n",
    "                    break\n",
    "    return pd.DataFrame(temp)"
   ]
  },
  {
   "cell_type": "markdown",
   "id": "6c23db145a528950",
   "metadata": {
    "collapsed": false
   },
   "source": [
    "## Reading the Input\n",
    "Now we will use the loaded filepath names and the newly created function to read the data into named data frames.\n",
    "\n",
    "We will display the first 5 elements to show a sample of each data file. We will set a global line limit for slower systems:"
   ]
  },
  {
   "cell_type": "code",
   "execution_count": 5,
   "outputs": [],
   "source": [
    "global_line_limit = 1e+7"
   ],
   "metadata": {
    "collapsed": false,
    "ExecuteTime": {
     "end_time": "2023-09-25T18:41:24.271705200Z",
     "start_time": "2023-09-25T18:41:24.243798500Z"
    }
   },
   "id": "b3dcdc067b214e6b"
  },
  {
   "cell_type": "code",
   "execution_count": 6,
   "id": "fb874a8411c2960d",
   "metadata": {
    "collapsed": false,
    "ExecuteTime": {
     "end_time": "2023-09-25T18:41:25.818185100Z",
     "start_time": "2023-09-25T18:41:24.260757800Z"
    }
   },
   "outputs": [
    {
     "data": {
      "text/plain": "              business_id                      name  \\\n0  Pns2l4eNsfO8kk83dixA6A  Abby Rappoport, LAC, CMQ   \n1  mpf3x-BjTdTEA3yCZrAYPw             The UPS Store   \n2  tUFrWirKiKi_TAnsVWINQQ                    Target   \n3  MTSW4McQd7CbVtyjqoe9mw        St Honore Pastries   \n4  mWMc6_wTdE0EUBKIGXDVfA  Perkiomen Valley Brewery   \n\n                           address           city state postal_code  \\\n0           1616 Chapala St, Ste 2  Santa Barbara    CA       93101   \n1  87 Grasso Plaza Shopping Center         Affton    MO       63123   \n2             5255 E Broadway Blvd         Tucson    AZ       85711   \n3                      935 Race St   Philadelphia    PA       19107   \n4                    101 Walnut St     Green Lane    PA       18054   \n\n    latitude   longitude  stars  review_count  is_open  \\\n0  34.426679 -119.711197    5.0             7        0   \n1  38.551126  -90.335695    3.0            15        1   \n2  32.223236 -110.880452    3.5            22        0   \n3  39.955505  -75.155564    4.0            80        1   \n4  40.338183  -75.471659    4.5            13        1   \n\n                                          attributes  \\\n0                      {'ByAppointmentOnly': 'True'}   \n1             {'BusinessAcceptsCreditCards': 'True'}   \n2  {'BikeParking': 'True', 'BusinessAcceptsCredit...   \n3  {'RestaurantsDelivery': 'False', 'OutdoorSeati...   \n4  {'BusinessAcceptsCreditCards': 'True', 'Wheelc...   \n\n                                          categories  \\\n0  Doctors, Traditional Chinese Medicine, Naturop...   \n1  Shipping Centers, Local Services, Notaries, Ma...   \n2  Department Stores, Shopping, Fashion, Home & G...   \n3  Restaurants, Food, Bubble Tea, Coffee & Tea, B...   \n4                          Brewpubs, Breweries, Food   \n\n                                               hours  \n0                                               None  \n1  {'Monday': '0:0-0:0', 'Tuesday': '8:0-18:30', ...  \n2  {'Monday': '8:0-22:0', 'Tuesday': '8:0-22:0', ...  \n3  {'Monday': '7:0-20:0', 'Tuesday': '7:0-20:0', ...  \n4  {'Wednesday': '14:0-22:0', 'Thursday': '16:0-2...  ",
      "text/html": "<div>\n<style scoped>\n    .dataframe tbody tr th:only-of-type {\n        vertical-align: middle;\n    }\n\n    .dataframe tbody tr th {\n        vertical-align: top;\n    }\n\n    .dataframe thead th {\n        text-align: right;\n    }\n</style>\n<table border=\"1\" class=\"dataframe\">\n  <thead>\n    <tr style=\"text-align: right;\">\n      <th></th>\n      <th>business_id</th>\n      <th>name</th>\n      <th>address</th>\n      <th>city</th>\n      <th>state</th>\n      <th>postal_code</th>\n      <th>latitude</th>\n      <th>longitude</th>\n      <th>stars</th>\n      <th>review_count</th>\n      <th>is_open</th>\n      <th>attributes</th>\n      <th>categories</th>\n      <th>hours</th>\n    </tr>\n  </thead>\n  <tbody>\n    <tr>\n      <th>0</th>\n      <td>Pns2l4eNsfO8kk83dixA6A</td>\n      <td>Abby Rappoport, LAC, CMQ</td>\n      <td>1616 Chapala St, Ste 2</td>\n      <td>Santa Barbara</td>\n      <td>CA</td>\n      <td>93101</td>\n      <td>34.426679</td>\n      <td>-119.711197</td>\n      <td>5.0</td>\n      <td>7</td>\n      <td>0</td>\n      <td>{'ByAppointmentOnly': 'True'}</td>\n      <td>Doctors, Traditional Chinese Medicine, Naturop...</td>\n      <td>None</td>\n    </tr>\n    <tr>\n      <th>1</th>\n      <td>mpf3x-BjTdTEA3yCZrAYPw</td>\n      <td>The UPS Store</td>\n      <td>87 Grasso Plaza Shopping Center</td>\n      <td>Affton</td>\n      <td>MO</td>\n      <td>63123</td>\n      <td>38.551126</td>\n      <td>-90.335695</td>\n      <td>3.0</td>\n      <td>15</td>\n      <td>1</td>\n      <td>{'BusinessAcceptsCreditCards': 'True'}</td>\n      <td>Shipping Centers, Local Services, Notaries, Ma...</td>\n      <td>{'Monday': '0:0-0:0', 'Tuesday': '8:0-18:30', ...</td>\n    </tr>\n    <tr>\n      <th>2</th>\n      <td>tUFrWirKiKi_TAnsVWINQQ</td>\n      <td>Target</td>\n      <td>5255 E Broadway Blvd</td>\n      <td>Tucson</td>\n      <td>AZ</td>\n      <td>85711</td>\n      <td>32.223236</td>\n      <td>-110.880452</td>\n      <td>3.5</td>\n      <td>22</td>\n      <td>0</td>\n      <td>{'BikeParking': 'True', 'BusinessAcceptsCredit...</td>\n      <td>Department Stores, Shopping, Fashion, Home &amp; G...</td>\n      <td>{'Monday': '8:0-22:0', 'Tuesday': '8:0-22:0', ...</td>\n    </tr>\n    <tr>\n      <th>3</th>\n      <td>MTSW4McQd7CbVtyjqoe9mw</td>\n      <td>St Honore Pastries</td>\n      <td>935 Race St</td>\n      <td>Philadelphia</td>\n      <td>PA</td>\n      <td>19107</td>\n      <td>39.955505</td>\n      <td>-75.155564</td>\n      <td>4.0</td>\n      <td>80</td>\n      <td>1</td>\n      <td>{'RestaurantsDelivery': 'False', 'OutdoorSeati...</td>\n      <td>Restaurants, Food, Bubble Tea, Coffee &amp; Tea, B...</td>\n      <td>{'Monday': '7:0-20:0', 'Tuesday': '7:0-20:0', ...</td>\n    </tr>\n    <tr>\n      <th>4</th>\n      <td>mWMc6_wTdE0EUBKIGXDVfA</td>\n      <td>Perkiomen Valley Brewery</td>\n      <td>101 Walnut St</td>\n      <td>Green Lane</td>\n      <td>PA</td>\n      <td>18054</td>\n      <td>40.338183</td>\n      <td>-75.471659</td>\n      <td>4.5</td>\n      <td>13</td>\n      <td>1</td>\n      <td>{'BusinessAcceptsCreditCards': 'True', 'Wheelc...</td>\n      <td>Brewpubs, Breweries, Food</td>\n      <td>{'Wednesday': '14:0-22:0', 'Thursday': '16:0-2...</td>\n    </tr>\n  </tbody>\n</table>\n</div>"
     },
     "execution_count": 6,
     "metadata": {},
     "output_type": "execute_result"
    }
   ],
   "source": [
    "business_data = load_json(f'{file_location}business{file_type}', line_limit=global_line_limit)\n",
    "business_data.head()"
   ]
  },
  {
   "cell_type": "code",
   "execution_count": 7,
   "id": "d2e6d6fa900445d6",
   "metadata": {
    "collapsed": false,
    "ExecuteTime": {
     "end_time": "2023-09-25T18:41:26.875917600Z",
     "start_time": "2023-09-25T18:41:25.806225500Z"
    }
   },
   "outputs": [
    {
     "data": {
      "text/plain": "              business_id                                               date\n0  ---kPU91CF4Lq2-WlRu9Lw  2020-03-13 21:10:56, 2020-06-02 22:18:06, 2020...\n1  --0iUa4sNDFiZFrAdIWhZQ  2010-09-13 21:43:09, 2011-05-04 23:08:15, 2011...\n2  --30_8IhuyMHbSOcNWd6DQ           2013-06-14 23:29:17, 2014-08-13 23:20:22\n3  --7PUidqRWpRSpXebiyxTg  2011-02-15 17:12:00, 2011-07-28 02:46:10, 2012...\n4  --7jw19RH9JKXgFohspgQw  2014-04-21 20:42:11, 2014-04-28 21:04:46, 2014...",
      "text/html": "<div>\n<style scoped>\n    .dataframe tbody tr th:only-of-type {\n        vertical-align: middle;\n    }\n\n    .dataframe tbody tr th {\n        vertical-align: top;\n    }\n\n    .dataframe thead th {\n        text-align: right;\n    }\n</style>\n<table border=\"1\" class=\"dataframe\">\n  <thead>\n    <tr style=\"text-align: right;\">\n      <th></th>\n      <th>business_id</th>\n      <th>date</th>\n    </tr>\n  </thead>\n  <tbody>\n    <tr>\n      <th>0</th>\n      <td>---kPU91CF4Lq2-WlRu9Lw</td>\n      <td>2020-03-13 21:10:56, 2020-06-02 22:18:06, 2020...</td>\n    </tr>\n    <tr>\n      <th>1</th>\n      <td>--0iUa4sNDFiZFrAdIWhZQ</td>\n      <td>2010-09-13 21:43:09, 2011-05-04 23:08:15, 2011...</td>\n    </tr>\n    <tr>\n      <th>2</th>\n      <td>--30_8IhuyMHbSOcNWd6DQ</td>\n      <td>2013-06-14 23:29:17, 2014-08-13 23:20:22</td>\n    </tr>\n    <tr>\n      <th>3</th>\n      <td>--7PUidqRWpRSpXebiyxTg</td>\n      <td>2011-02-15 17:12:00, 2011-07-28 02:46:10, 2012...</td>\n    </tr>\n    <tr>\n      <th>4</th>\n      <td>--7jw19RH9JKXgFohspgQw</td>\n      <td>2014-04-21 20:42:11, 2014-04-28 21:04:46, 2014...</td>\n    </tr>\n  </tbody>\n</table>\n</div>"
     },
     "execution_count": 7,
     "metadata": {},
     "output_type": "execute_result"
    }
   ],
   "source": [
    "checkin_data = load_json(f'{file_location}checkin{file_type}', line_limit=global_line_limit)\n",
    "checkin_data.head()"
   ]
  },
  {
   "cell_type": "code",
   "execution_count": 8,
   "outputs": [
    {
     "data": {
      "text/plain": "                review_id                 user_id             business_id  \\\n0  KU_O5udG6zpxOg-VcAEodg  mh_-eMZ6K5RLWhZyISBhwA  XQfwVwDr-v0ZS3_CbbE5Xw   \n1  BiTunyQ73aT9WBnpR9DZGw  OyoGAe7OKpv6SyGZT5g77Q  7ATYjTIgM3jUlt4UM3IypQ   \n2  saUsX_uimxRlCVr67Z4Jig  8g_iMtfSiwikVnbP2etR0A  YjUWPpI6HXG530lwP-fb2A   \n3  AqPFMleE6RsU23_auESxiA  _7bHUi9Uuf5__HHc_Q8guQ  kxX2SOes4o-D3ZQBkiMRfA   \n4  Sx8TMOWLNuJBWer-0pcmoA  bcjbaE6dDog4jkNY91ncLQ  e4Vwtrqf-wpJfwesgvdgxQ   \n\n   stars  useful  funny  cool  \\\n0    3.0       0      0     0   \n1    5.0       1      0     1   \n2    3.0       0      0     0   \n3    5.0       1      0     1   \n4    4.0       1      0     1   \n\n                                                text                 date  \n0  If you decide to eat here, just be aware it is...  2018-07-07 22:09:11  \n1  I've taken a lot of spin classes over the year...  2012-01-03 15:28:18  \n2  Family diner. Had the buffet. Eclectic assortm...  2014-02-05 20:30:30  \n3  Wow!  Yummy, different,  delicious.   Our favo...  2015-01-04 00:01:03  \n4  Cute interior and owner (?) gave us tour of up...  2017-01-14 20:54:15  ",
      "text/html": "<div>\n<style scoped>\n    .dataframe tbody tr th:only-of-type {\n        vertical-align: middle;\n    }\n\n    .dataframe tbody tr th {\n        vertical-align: top;\n    }\n\n    .dataframe thead th {\n        text-align: right;\n    }\n</style>\n<table border=\"1\" class=\"dataframe\">\n  <thead>\n    <tr style=\"text-align: right;\">\n      <th></th>\n      <th>review_id</th>\n      <th>user_id</th>\n      <th>business_id</th>\n      <th>stars</th>\n      <th>useful</th>\n      <th>funny</th>\n      <th>cool</th>\n      <th>text</th>\n      <th>date</th>\n    </tr>\n  </thead>\n  <tbody>\n    <tr>\n      <th>0</th>\n      <td>KU_O5udG6zpxOg-VcAEodg</td>\n      <td>mh_-eMZ6K5RLWhZyISBhwA</td>\n      <td>XQfwVwDr-v0ZS3_CbbE5Xw</td>\n      <td>3.0</td>\n      <td>0</td>\n      <td>0</td>\n      <td>0</td>\n      <td>If you decide to eat here, just be aware it is...</td>\n      <td>2018-07-07 22:09:11</td>\n    </tr>\n    <tr>\n      <th>1</th>\n      <td>BiTunyQ73aT9WBnpR9DZGw</td>\n      <td>OyoGAe7OKpv6SyGZT5g77Q</td>\n      <td>7ATYjTIgM3jUlt4UM3IypQ</td>\n      <td>5.0</td>\n      <td>1</td>\n      <td>0</td>\n      <td>1</td>\n      <td>I've taken a lot of spin classes over the year...</td>\n      <td>2012-01-03 15:28:18</td>\n    </tr>\n    <tr>\n      <th>2</th>\n      <td>saUsX_uimxRlCVr67Z4Jig</td>\n      <td>8g_iMtfSiwikVnbP2etR0A</td>\n      <td>YjUWPpI6HXG530lwP-fb2A</td>\n      <td>3.0</td>\n      <td>0</td>\n      <td>0</td>\n      <td>0</td>\n      <td>Family diner. Had the buffet. Eclectic assortm...</td>\n      <td>2014-02-05 20:30:30</td>\n    </tr>\n    <tr>\n      <th>3</th>\n      <td>AqPFMleE6RsU23_auESxiA</td>\n      <td>_7bHUi9Uuf5__HHc_Q8guQ</td>\n      <td>kxX2SOes4o-D3ZQBkiMRfA</td>\n      <td>5.0</td>\n      <td>1</td>\n      <td>0</td>\n      <td>1</td>\n      <td>Wow!  Yummy, different,  delicious.   Our favo...</td>\n      <td>2015-01-04 00:01:03</td>\n    </tr>\n    <tr>\n      <th>4</th>\n      <td>Sx8TMOWLNuJBWer-0pcmoA</td>\n      <td>bcjbaE6dDog4jkNY91ncLQ</td>\n      <td>e4Vwtrqf-wpJfwesgvdgxQ</td>\n      <td>4.0</td>\n      <td>1</td>\n      <td>0</td>\n      <td>1</td>\n      <td>Cute interior and owner (?) gave us tour of up...</td>\n      <td>2017-01-14 20:54:15</td>\n    </tr>\n  </tbody>\n</table>\n</div>"
     },
     "execution_count": 8,
     "metadata": {},
     "output_type": "execute_result"
    }
   ],
   "source": [
    "review_data = load_json(f'{file_location}review{file_type}', line_limit=global_line_limit)\n",
    "review_data.head()"
   ],
   "metadata": {
    "collapsed": false,
    "ExecuteTime": {
     "end_time": "2023-09-25T18:42:03.321056300Z",
     "start_time": "2023-09-25T18:41:26.876915500Z"
    }
   },
   "id": "8992ff1adcd6c7ef"
  },
  {
   "cell_type": "code",
   "execution_count": 9,
   "id": "2136673b5ce6d4c7",
   "metadata": {
    "collapsed": false,
    "ExecuteTime": {
     "end_time": "2023-09-25T18:42:05.674554Z",
     "start_time": "2023-09-25T18:42:03.322054300Z"
    }
   },
   "outputs": [
    {
     "data": {
      "text/plain": "                  user_id             business_id  \\\n0  AGNUgVwnZUey3gcPCJ76iw  3uLgwr0qeCNMjKenHJwPGQ   \n1  NBN4MgHP9D3cw--SnauTkA  QoezRbYQncpRqyrLH6Iqjg   \n2  -copOvldyKh1qr-vzkDEvw  MYoRNLb5chwjQe3c_k37Gg   \n3  FjMQVZjSqY8syIO-53KFKw  hV-bABTK-glh5wj31ps_Jw   \n4  ld0AperBXk1h6UbqmM80zw  _uN0OudeJ3Zl_tf6nxg5ww   \n\n                                                text                 date  \\\n0                     Avengers time with the ladies.  2012-05-18 02:17:21   \n1  They have lots of good deserts and tasty cuban...  2013-02-05 18:35:10   \n2             It's open even when you think it isn't  2013-08-18 00:56:08   \n3                          Very decent fried chicken  2017-06-27 23:05:38   \n4             Appetizers.. platter special for lunch  2012-10-06 19:43:09   \n\n   compliment_count  \n0                 0  \n1                 0  \n2                 0  \n3                 0  \n4                 0  ",
      "text/html": "<div>\n<style scoped>\n    .dataframe tbody tr th:only-of-type {\n        vertical-align: middle;\n    }\n\n    .dataframe tbody tr th {\n        vertical-align: top;\n    }\n\n    .dataframe thead th {\n        text-align: right;\n    }\n</style>\n<table border=\"1\" class=\"dataframe\">\n  <thead>\n    <tr style=\"text-align: right;\">\n      <th></th>\n      <th>user_id</th>\n      <th>business_id</th>\n      <th>text</th>\n      <th>date</th>\n      <th>compliment_count</th>\n    </tr>\n  </thead>\n  <tbody>\n    <tr>\n      <th>0</th>\n      <td>AGNUgVwnZUey3gcPCJ76iw</td>\n      <td>3uLgwr0qeCNMjKenHJwPGQ</td>\n      <td>Avengers time with the ladies.</td>\n      <td>2012-05-18 02:17:21</td>\n      <td>0</td>\n    </tr>\n    <tr>\n      <th>1</th>\n      <td>NBN4MgHP9D3cw--SnauTkA</td>\n      <td>QoezRbYQncpRqyrLH6Iqjg</td>\n      <td>They have lots of good deserts and tasty cuban...</td>\n      <td>2013-02-05 18:35:10</td>\n      <td>0</td>\n    </tr>\n    <tr>\n      <th>2</th>\n      <td>-copOvldyKh1qr-vzkDEvw</td>\n      <td>MYoRNLb5chwjQe3c_k37Gg</td>\n      <td>It's open even when you think it isn't</td>\n      <td>2013-08-18 00:56:08</td>\n      <td>0</td>\n    </tr>\n    <tr>\n      <th>3</th>\n      <td>FjMQVZjSqY8syIO-53KFKw</td>\n      <td>hV-bABTK-glh5wj31ps_Jw</td>\n      <td>Very decent fried chicken</td>\n      <td>2017-06-27 23:05:38</td>\n      <td>0</td>\n    </tr>\n    <tr>\n      <th>4</th>\n      <td>ld0AperBXk1h6UbqmM80zw</td>\n      <td>_uN0OudeJ3Zl_tf6nxg5ww</td>\n      <td>Appetizers.. platter special for lunch</td>\n      <td>2012-10-06 19:43:09</td>\n      <td>0</td>\n    </tr>\n  </tbody>\n</table>\n</div>"
     },
     "execution_count": 9,
     "metadata": {},
     "output_type": "execute_result"
    }
   ],
   "source": [
    "tip_data = load_json(f'{file_location}tip{file_type}', line_limit=global_line_limit)\n",
    "tip_data.head()"
   ]
  },
  {
   "cell_type": "code",
   "execution_count": 10,
   "id": "29ab1406a872d716",
   "metadata": {
    "collapsed": false,
    "ExecuteTime": {
     "end_time": "2023-09-25T18:42:28.533535200Z",
     "start_time": "2023-09-25T18:42:05.665697700Z"
    }
   },
   "outputs": [
    {
     "data": {
      "text/plain": "                  user_id    name  review_count        yelping_since  useful  \\\n0  qVc8ODYU5SZjKXVBgXdI7w  Walker           585  2007-01-25 16:47:26    7217   \n1  j14WgRoU_-2ZE1aw1dXrJg  Daniel          4333  2009-01-25 04:35:42   43091   \n2  2WnXYQFK0hXEoTxPtV2zvg   Steph           665  2008-07-25 10:41:00    2086   \n3  SZDeASXq7o05mMNLshsdIA    Gwen           224  2005-11-29 04:38:33     512   \n4  hA5lMy-EnncsH4JoR-hFGQ   Karen            79  2007-01-05 19:40:59      29   \n\n   funny   cool                                              elite  \\\n0   1259   5994                                               2007   \n1  13066  27281  2009,2010,2011,2012,2013,2014,2015,2016,2017,2...   \n2   1010   1003                           2009,2010,2011,2012,2013   \n3    330    299                                     2009,2010,2011   \n4     15      7                                                      \n\n                                             friends  fans  ...  \\\n0  NSCy54eWehBJyZdG2iE84w, pe42u7DcCH2QmI81NX-8qA...   267  ...   \n1  ueRPE0CX75ePGMqOFVj6IQ, 52oH4DrRvzzl8wh5UXyU0A...  3138  ...   \n2  LuO3Bn4f3rlhyHIaNfTlnA, j9B4XdHUhDfTKVecyWQgyA...    52  ...   \n3  enx1vVPnfdNUdPho6PH_wg, 4wOcvMLtU6a9Lslggq74Vg...    28  ...   \n4  PBK4q9KEEBHhFvSXCUirIw, 3FWPpM7KU1gXeOM_ZbYMbA...     1  ...   \n\n   compliment_more  compliment_profile  compliment_cute  compliment_list  \\\n0               65                  55               56               18   \n1              264                 184              157              251   \n2               13                  10               17                3   \n3                4                   1                6                2   \n4                1                   0                0                0   \n\n   compliment_note  compliment_plain  compliment_cool  compliment_funny  \\\n0              232               844              467               467   \n1             1847              7054             3131              3131   \n2               66                96              119               119   \n3               12                16               26                26   \n4                1                 1                0                 0   \n\n   compliment_writer  compliment_photos  \n0                239                180  \n1               1521               1946  \n2                 35                 18  \n3                 10                  9  \n4                  0                  0  \n\n[5 rows x 22 columns]",
      "text/html": "<div>\n<style scoped>\n    .dataframe tbody tr th:only-of-type {\n        vertical-align: middle;\n    }\n\n    .dataframe tbody tr th {\n        vertical-align: top;\n    }\n\n    .dataframe thead th {\n        text-align: right;\n    }\n</style>\n<table border=\"1\" class=\"dataframe\">\n  <thead>\n    <tr style=\"text-align: right;\">\n      <th></th>\n      <th>user_id</th>\n      <th>name</th>\n      <th>review_count</th>\n      <th>yelping_since</th>\n      <th>useful</th>\n      <th>funny</th>\n      <th>cool</th>\n      <th>elite</th>\n      <th>friends</th>\n      <th>fans</th>\n      <th>...</th>\n      <th>compliment_more</th>\n      <th>compliment_profile</th>\n      <th>compliment_cute</th>\n      <th>compliment_list</th>\n      <th>compliment_note</th>\n      <th>compliment_plain</th>\n      <th>compliment_cool</th>\n      <th>compliment_funny</th>\n      <th>compliment_writer</th>\n      <th>compliment_photos</th>\n    </tr>\n  </thead>\n  <tbody>\n    <tr>\n      <th>0</th>\n      <td>qVc8ODYU5SZjKXVBgXdI7w</td>\n      <td>Walker</td>\n      <td>585</td>\n      <td>2007-01-25 16:47:26</td>\n      <td>7217</td>\n      <td>1259</td>\n      <td>5994</td>\n      <td>2007</td>\n      <td>NSCy54eWehBJyZdG2iE84w, pe42u7DcCH2QmI81NX-8qA...</td>\n      <td>267</td>\n      <td>...</td>\n      <td>65</td>\n      <td>55</td>\n      <td>56</td>\n      <td>18</td>\n      <td>232</td>\n      <td>844</td>\n      <td>467</td>\n      <td>467</td>\n      <td>239</td>\n      <td>180</td>\n    </tr>\n    <tr>\n      <th>1</th>\n      <td>j14WgRoU_-2ZE1aw1dXrJg</td>\n      <td>Daniel</td>\n      <td>4333</td>\n      <td>2009-01-25 04:35:42</td>\n      <td>43091</td>\n      <td>13066</td>\n      <td>27281</td>\n      <td>2009,2010,2011,2012,2013,2014,2015,2016,2017,2...</td>\n      <td>ueRPE0CX75ePGMqOFVj6IQ, 52oH4DrRvzzl8wh5UXyU0A...</td>\n      <td>3138</td>\n      <td>...</td>\n      <td>264</td>\n      <td>184</td>\n      <td>157</td>\n      <td>251</td>\n      <td>1847</td>\n      <td>7054</td>\n      <td>3131</td>\n      <td>3131</td>\n      <td>1521</td>\n      <td>1946</td>\n    </tr>\n    <tr>\n      <th>2</th>\n      <td>2WnXYQFK0hXEoTxPtV2zvg</td>\n      <td>Steph</td>\n      <td>665</td>\n      <td>2008-07-25 10:41:00</td>\n      <td>2086</td>\n      <td>1010</td>\n      <td>1003</td>\n      <td>2009,2010,2011,2012,2013</td>\n      <td>LuO3Bn4f3rlhyHIaNfTlnA, j9B4XdHUhDfTKVecyWQgyA...</td>\n      <td>52</td>\n      <td>...</td>\n      <td>13</td>\n      <td>10</td>\n      <td>17</td>\n      <td>3</td>\n      <td>66</td>\n      <td>96</td>\n      <td>119</td>\n      <td>119</td>\n      <td>35</td>\n      <td>18</td>\n    </tr>\n    <tr>\n      <th>3</th>\n      <td>SZDeASXq7o05mMNLshsdIA</td>\n      <td>Gwen</td>\n      <td>224</td>\n      <td>2005-11-29 04:38:33</td>\n      <td>512</td>\n      <td>330</td>\n      <td>299</td>\n      <td>2009,2010,2011</td>\n      <td>enx1vVPnfdNUdPho6PH_wg, 4wOcvMLtU6a9Lslggq74Vg...</td>\n      <td>28</td>\n      <td>...</td>\n      <td>4</td>\n      <td>1</td>\n      <td>6</td>\n      <td>2</td>\n      <td>12</td>\n      <td>16</td>\n      <td>26</td>\n      <td>26</td>\n      <td>10</td>\n      <td>9</td>\n    </tr>\n    <tr>\n      <th>4</th>\n      <td>hA5lMy-EnncsH4JoR-hFGQ</td>\n      <td>Karen</td>\n      <td>79</td>\n      <td>2007-01-05 19:40:59</td>\n      <td>29</td>\n      <td>15</td>\n      <td>7</td>\n      <td></td>\n      <td>PBK4q9KEEBHhFvSXCUirIw, 3FWPpM7KU1gXeOM_ZbYMbA...</td>\n      <td>1</td>\n      <td>...</td>\n      <td>1</td>\n      <td>0</td>\n      <td>0</td>\n      <td>0</td>\n      <td>1</td>\n      <td>1</td>\n      <td>0</td>\n      <td>0</td>\n      <td>0</td>\n      <td>0</td>\n    </tr>\n  </tbody>\n</table>\n<p>5 rows × 22 columns</p>\n</div>"
     },
     "execution_count": 10,
     "metadata": {},
     "output_type": "execute_result"
    }
   ],
   "source": [
    "user_data = load_json(f'{file_location}user{file_type}', line_limit=global_line_limit)\n",
    "user_data.head()"
   ]
  },
  {
   "cell_type": "markdown",
   "id": "5aab534113561e1d",
   "metadata": {
    "collapsed": false
   },
   "source": [
    "## Describing the Input\n",
    "This section aims to describe the data columns numerically, to better understand the structure\n",
    "of the given data."
   ]
  },
  {
   "cell_type": "code",
   "execution_count": 11,
   "id": "9d21ba79964e3729",
   "metadata": {
    "collapsed": false,
    "ExecuteTime": {
     "end_time": "2023-09-25T18:42:28.695660900Z",
     "start_time": "2023-09-25T18:42:28.527051600Z"
    }
   },
   "outputs": [
    {
     "name": "stdout",
     "output_type": "stream",
     "text": [
      "The shape of the business data: (150346, 14)\n"
     ]
    },
    {
     "data": {
      "text/plain": "            latitude      longitude          stars   review_count  \\\ncount  150346.000000  150346.000000  150346.000000  150346.000000   \nmean       36.671150     -89.357339       3.596724      44.866561   \nstd         5.872759      14.918502       0.974421     121.120136   \nmin        27.555127    -120.095137       1.000000       5.000000   \n25%        32.187293     -90.357810       3.000000       8.000000   \n50%        38.777413     -86.121179       3.500000      15.000000   \n75%        39.954036     -75.421542       4.500000      37.000000   \nmax        53.679197     -73.200457       5.000000    7568.000000   \n\n            is_open  \ncount  150346.00000  \nmean        0.79615  \nstd         0.40286  \nmin         0.00000  \n25%         1.00000  \n50%         1.00000  \n75%         1.00000  \nmax         1.00000  ",
      "text/html": "<div>\n<style scoped>\n    .dataframe tbody tr th:only-of-type {\n        vertical-align: middle;\n    }\n\n    .dataframe tbody tr th {\n        vertical-align: top;\n    }\n\n    .dataframe thead th {\n        text-align: right;\n    }\n</style>\n<table border=\"1\" class=\"dataframe\">\n  <thead>\n    <tr style=\"text-align: right;\">\n      <th></th>\n      <th>latitude</th>\n      <th>longitude</th>\n      <th>stars</th>\n      <th>review_count</th>\n      <th>is_open</th>\n    </tr>\n  </thead>\n  <tbody>\n    <tr>\n      <th>count</th>\n      <td>150346.000000</td>\n      <td>150346.000000</td>\n      <td>150346.000000</td>\n      <td>150346.000000</td>\n      <td>150346.00000</td>\n    </tr>\n    <tr>\n      <th>mean</th>\n      <td>36.671150</td>\n      <td>-89.357339</td>\n      <td>3.596724</td>\n      <td>44.866561</td>\n      <td>0.79615</td>\n    </tr>\n    <tr>\n      <th>std</th>\n      <td>5.872759</td>\n      <td>14.918502</td>\n      <td>0.974421</td>\n      <td>121.120136</td>\n      <td>0.40286</td>\n    </tr>\n    <tr>\n      <th>min</th>\n      <td>27.555127</td>\n      <td>-120.095137</td>\n      <td>1.000000</td>\n      <td>5.000000</td>\n      <td>0.00000</td>\n    </tr>\n    <tr>\n      <th>25%</th>\n      <td>32.187293</td>\n      <td>-90.357810</td>\n      <td>3.000000</td>\n      <td>8.000000</td>\n      <td>1.00000</td>\n    </tr>\n    <tr>\n      <th>50%</th>\n      <td>38.777413</td>\n      <td>-86.121179</td>\n      <td>3.500000</td>\n      <td>15.000000</td>\n      <td>1.00000</td>\n    </tr>\n    <tr>\n      <th>75%</th>\n      <td>39.954036</td>\n      <td>-75.421542</td>\n      <td>4.500000</td>\n      <td>37.000000</td>\n      <td>1.00000</td>\n    </tr>\n    <tr>\n      <th>max</th>\n      <td>53.679197</td>\n      <td>-73.200457</td>\n      <td>5.000000</td>\n      <td>7568.000000</td>\n      <td>1.00000</td>\n    </tr>\n  </tbody>\n</table>\n</div>"
     },
     "execution_count": 11,
     "metadata": {},
     "output_type": "execute_result"
    }
   ],
   "source": [
    "print(f'The shape of the business data: {business_data.shape}')\n",
    "business_data.describe()"
   ]
  },
  {
   "cell_type": "code",
   "execution_count": 12,
   "id": "cf3479433d8415b5",
   "metadata": {
    "collapsed": false,
    "ExecuteTime": {
     "end_time": "2023-09-25T18:42:28.899003500Z",
     "start_time": "2023-09-25T18:42:28.573402100Z"
    }
   },
   "outputs": [
    {
     "name": "stdout",
     "output_type": "stream",
     "text": [
      "The shape of the checkin data: (131930, 2)\n"
     ]
    },
    {
     "data": {
      "text/plain": "                   business_id  \\\ncount                   131930   \nunique                  131930   \ntop     ---kPU91CF4Lq2-WlRu9Lw   \nfreq                         1   \n\n                                                     date  \ncount                                              131930  \nunique                                             131930  \ntop     2020-03-13 21:10:56, 2020-06-02 22:18:06, 2020...  \nfreq                                                    1  ",
      "text/html": "<div>\n<style scoped>\n    .dataframe tbody tr th:only-of-type {\n        vertical-align: middle;\n    }\n\n    .dataframe tbody tr th {\n        vertical-align: top;\n    }\n\n    .dataframe thead th {\n        text-align: right;\n    }\n</style>\n<table border=\"1\" class=\"dataframe\">\n  <thead>\n    <tr style=\"text-align: right;\">\n      <th></th>\n      <th>business_id</th>\n      <th>date</th>\n    </tr>\n  </thead>\n  <tbody>\n    <tr>\n      <th>count</th>\n      <td>131930</td>\n      <td>131930</td>\n    </tr>\n    <tr>\n      <th>unique</th>\n      <td>131930</td>\n      <td>131930</td>\n    </tr>\n    <tr>\n      <th>top</th>\n      <td>---kPU91CF4Lq2-WlRu9Lw</td>\n      <td>2020-03-13 21:10:56, 2020-06-02 22:18:06, 2020...</td>\n    </tr>\n    <tr>\n      <th>freq</th>\n      <td>1</td>\n      <td>1</td>\n    </tr>\n  </tbody>\n</table>\n</div>"
     },
     "execution_count": 12,
     "metadata": {},
     "output_type": "execute_result"
    }
   ],
   "source": [
    "print(f'The shape of the checkin data: {checkin_data.shape}')\n",
    "checkin_data.describe()"
   ]
  },
  {
   "cell_type": "code",
   "execution_count": 13,
   "id": "cf7e52d54ac580b9",
   "metadata": {
    "collapsed": false,
    "ExecuteTime": {
     "end_time": "2023-09-25T18:42:29.660604700Z",
     "start_time": "2023-09-25T18:42:28.836215700Z"
    }
   },
   "outputs": [
    {
     "name": "stdout",
     "output_type": "stream",
     "text": [
      "The shape of the review data: (6990280, 9)\n"
     ]
    },
    {
     "data": {
      "text/plain": "              stars        useful         funny          cool\ncount  6.990280e+06  6.990280e+06  6.990280e+06  6.990280e+06\nmean   3.748584e+00  1.184609e+00  3.265596e-01  4.986175e-01\nstd    1.478705e+00  3.253767e+00  1.688729e+00  2.172460e+00\nmin    1.000000e+00 -1.000000e+00 -1.000000e+00 -1.000000e+00\n25%    3.000000e+00  0.000000e+00  0.000000e+00  0.000000e+00\n50%    4.000000e+00  0.000000e+00  0.000000e+00  0.000000e+00\n75%    5.000000e+00  1.000000e+00  0.000000e+00  0.000000e+00\nmax    5.000000e+00  1.182000e+03  7.920000e+02  4.040000e+02",
      "text/html": "<div>\n<style scoped>\n    .dataframe tbody tr th:only-of-type {\n        vertical-align: middle;\n    }\n\n    .dataframe tbody tr th {\n        vertical-align: top;\n    }\n\n    .dataframe thead th {\n        text-align: right;\n    }\n</style>\n<table border=\"1\" class=\"dataframe\">\n  <thead>\n    <tr style=\"text-align: right;\">\n      <th></th>\n      <th>stars</th>\n      <th>useful</th>\n      <th>funny</th>\n      <th>cool</th>\n    </tr>\n  </thead>\n  <tbody>\n    <tr>\n      <th>count</th>\n      <td>6.990280e+06</td>\n      <td>6.990280e+06</td>\n      <td>6.990280e+06</td>\n      <td>6.990280e+06</td>\n    </tr>\n    <tr>\n      <th>mean</th>\n      <td>3.748584e+00</td>\n      <td>1.184609e+00</td>\n      <td>3.265596e-01</td>\n      <td>4.986175e-01</td>\n    </tr>\n    <tr>\n      <th>std</th>\n      <td>1.478705e+00</td>\n      <td>3.253767e+00</td>\n      <td>1.688729e+00</td>\n      <td>2.172460e+00</td>\n    </tr>\n    <tr>\n      <th>min</th>\n      <td>1.000000e+00</td>\n      <td>-1.000000e+00</td>\n      <td>-1.000000e+00</td>\n      <td>-1.000000e+00</td>\n    </tr>\n    <tr>\n      <th>25%</th>\n      <td>3.000000e+00</td>\n      <td>0.000000e+00</td>\n      <td>0.000000e+00</td>\n      <td>0.000000e+00</td>\n    </tr>\n    <tr>\n      <th>50%</th>\n      <td>4.000000e+00</td>\n      <td>0.000000e+00</td>\n      <td>0.000000e+00</td>\n      <td>0.000000e+00</td>\n    </tr>\n    <tr>\n      <th>75%</th>\n      <td>5.000000e+00</td>\n      <td>1.000000e+00</td>\n      <td>0.000000e+00</td>\n      <td>0.000000e+00</td>\n    </tr>\n    <tr>\n      <th>max</th>\n      <td>5.000000e+00</td>\n      <td>1.182000e+03</td>\n      <td>7.920000e+02</td>\n      <td>4.040000e+02</td>\n    </tr>\n  </tbody>\n</table>\n</div>"
     },
     "execution_count": 13,
     "metadata": {},
     "output_type": "execute_result"
    }
   ],
   "source": [
    "print(f'The shape of the review data: {review_data.shape}')\n",
    "review_data.describe()"
   ]
  },
  {
   "cell_type": "code",
   "execution_count": 14,
   "id": "c93ce5d4b8ab0028",
   "metadata": {
    "collapsed": false,
    "ExecuteTime": {
     "end_time": "2023-09-25T18:42:29.665588400Z",
     "start_time": "2023-09-25T18:42:29.632191300Z"
    }
   },
   "outputs": [
    {
     "name": "stdout",
     "output_type": "stream",
     "text": [
      "The shape of the tip data: (908915, 5)\n"
     ]
    },
    {
     "data": {
      "text/plain": "       compliment_count\ncount     908915.000000\nmean           0.012525\nstd            0.120763\nmin            0.000000\n25%            0.000000\n50%            0.000000\n75%            0.000000\nmax            6.000000",
      "text/html": "<div>\n<style scoped>\n    .dataframe tbody tr th:only-of-type {\n        vertical-align: middle;\n    }\n\n    .dataframe tbody tr th {\n        vertical-align: top;\n    }\n\n    .dataframe thead th {\n        text-align: right;\n    }\n</style>\n<table border=\"1\" class=\"dataframe\">\n  <thead>\n    <tr style=\"text-align: right;\">\n      <th></th>\n      <th>compliment_count</th>\n    </tr>\n  </thead>\n  <tbody>\n    <tr>\n      <th>count</th>\n      <td>908915.000000</td>\n    </tr>\n    <tr>\n      <th>mean</th>\n      <td>0.012525</td>\n    </tr>\n    <tr>\n      <th>std</th>\n      <td>0.120763</td>\n    </tr>\n    <tr>\n      <th>min</th>\n      <td>0.000000</td>\n    </tr>\n    <tr>\n      <th>25%</th>\n      <td>0.000000</td>\n    </tr>\n    <tr>\n      <th>50%</th>\n      <td>0.000000</td>\n    </tr>\n    <tr>\n      <th>75%</th>\n      <td>0.000000</td>\n    </tr>\n    <tr>\n      <th>max</th>\n      <td>6.000000</td>\n    </tr>\n  </tbody>\n</table>\n</div>"
     },
     "execution_count": 14,
     "metadata": {},
     "output_type": "execute_result"
    }
   ],
   "source": [
    "print(f'The shape of the tip data: {tip_data.shape}')\n",
    "tip_data.describe()"
   ]
  },
  {
   "cell_type": "code",
   "execution_count": 15,
   "id": "30219353a1e33882",
   "metadata": {
    "collapsed": false,
    "ExecuteTime": {
     "end_time": "2023-09-25T18:42:30.502890700Z",
     "start_time": "2023-09-25T18:42:29.662598100Z"
    }
   },
   "outputs": [
    {
     "name": "stdout",
     "output_type": "stream",
     "text": [
      "The shape of the user data: (1987897, 22)\n"
     ]
    },
    {
     "data": {
      "text/plain": "       review_count        useful         funny          cool          fans  \\\ncount  1.987897e+06  1.987897e+06  1.987897e+06  1.987897e+06  1.987897e+06   \nmean   2.339441e+01  4.229634e+01  1.697054e+01  2.379291e+01  1.465740e+00   \nstd    8.256699e+01  6.414806e+02  4.078034e+02  5.653513e+02  1.813075e+01   \nmin    0.000000e+00  0.000000e+00  0.000000e+00  0.000000e+00  0.000000e+00   \n25%    2.000000e+00  0.000000e+00  0.000000e+00  0.000000e+00  0.000000e+00   \n50%    5.000000e+00  3.000000e+00  0.000000e+00  0.000000e+00  0.000000e+00   \n75%    1.700000e+01  1.300000e+01  2.000000e+00  3.000000e+00  0.000000e+00   \nmax    1.747300e+04  2.062960e+05  1.858230e+05  1.998780e+05  1.249700e+04   \n\n       average_stars  compliment_hot  compliment_more  compliment_profile  \\\ncount   1.987897e+06    1.987897e+06     1.987897e+06        1.987897e+06   \nmean    3.630494e+00    1.807072e+00     2.922631e-01        1.793176e-01   \nstd     1.183337e+00    7.360184e+01     1.282467e+01        1.515525e+01   \nmin     1.000000e+00    0.000000e+00     0.000000e+00        0.000000e+00   \n25%     3.000000e+00    0.000000e+00     0.000000e+00        0.000000e+00   \n50%     3.880000e+00    0.000000e+00     0.000000e+00        0.000000e+00   \n75%     4.560000e+00    0.000000e+00     0.000000e+00        0.000000e+00   \nmax     5.000000e+00    2.578400e+04     1.350100e+04        1.418000e+04   \n\n       compliment_cute  compliment_list  compliment_note  compliment_plain  \\\ncount     1.987897e+06     1.987897e+06     1.987897e+06      1.987897e+06   \nmean      1.336493e-01     6.390723e-02     1.443135e+00      3.011841e+00   \nstd       1.135682e+01     1.004363e+01     6.016790e+01      1.193898e+02   \nmin       0.000000e+00     0.000000e+00     0.000000e+00      0.000000e+00   \n25%       0.000000e+00     0.000000e+00     0.000000e+00      0.000000e+00   \n50%       0.000000e+00     0.000000e+00     0.000000e+00      0.000000e+00   \n75%       0.000000e+00     0.000000e+00     0.000000e+00      0.000000e+00   \nmax       1.365400e+04     1.266900e+04     5.903100e+04      1.010970e+05   \n\n       compliment_cool  compliment_funny  compliment_writer  compliment_photos  \ncount     1.987897e+06      1.987897e+06       1.987897e+06       1.987897e+06  \nmean      2.829308e+00      2.829308e+00       1.056448e+00       1.226859e+00  \nstd       9.666385e+01      9.666385e+01       3.217973e+01       9.515751e+01  \nmin       0.000000e+00      0.000000e+00       0.000000e+00       0.000000e+00  \n25%       0.000000e+00      0.000000e+00       0.000000e+00       0.000000e+00  \n50%       0.000000e+00      0.000000e+00       0.000000e+00       0.000000e+00  \n75%       0.000000e+00      0.000000e+00       0.000000e+00       0.000000e+00  \nmax       4.996700e+04      4.996700e+04       1.593400e+04       8.263000e+04  ",
      "text/html": "<div>\n<style scoped>\n    .dataframe tbody tr th:only-of-type {\n        vertical-align: middle;\n    }\n\n    .dataframe tbody tr th {\n        vertical-align: top;\n    }\n\n    .dataframe thead th {\n        text-align: right;\n    }\n</style>\n<table border=\"1\" class=\"dataframe\">\n  <thead>\n    <tr style=\"text-align: right;\">\n      <th></th>\n      <th>review_count</th>\n      <th>useful</th>\n      <th>funny</th>\n      <th>cool</th>\n      <th>fans</th>\n      <th>average_stars</th>\n      <th>compliment_hot</th>\n      <th>compliment_more</th>\n      <th>compliment_profile</th>\n      <th>compliment_cute</th>\n      <th>compliment_list</th>\n      <th>compliment_note</th>\n      <th>compliment_plain</th>\n      <th>compliment_cool</th>\n      <th>compliment_funny</th>\n      <th>compliment_writer</th>\n      <th>compliment_photos</th>\n    </tr>\n  </thead>\n  <tbody>\n    <tr>\n      <th>count</th>\n      <td>1.987897e+06</td>\n      <td>1.987897e+06</td>\n      <td>1.987897e+06</td>\n      <td>1.987897e+06</td>\n      <td>1.987897e+06</td>\n      <td>1.987897e+06</td>\n      <td>1.987897e+06</td>\n      <td>1.987897e+06</td>\n      <td>1.987897e+06</td>\n      <td>1.987897e+06</td>\n      <td>1.987897e+06</td>\n      <td>1.987897e+06</td>\n      <td>1.987897e+06</td>\n      <td>1.987897e+06</td>\n      <td>1.987897e+06</td>\n      <td>1.987897e+06</td>\n      <td>1.987897e+06</td>\n    </tr>\n    <tr>\n      <th>mean</th>\n      <td>2.339441e+01</td>\n      <td>4.229634e+01</td>\n      <td>1.697054e+01</td>\n      <td>2.379291e+01</td>\n      <td>1.465740e+00</td>\n      <td>3.630494e+00</td>\n      <td>1.807072e+00</td>\n      <td>2.922631e-01</td>\n      <td>1.793176e-01</td>\n      <td>1.336493e-01</td>\n      <td>6.390723e-02</td>\n      <td>1.443135e+00</td>\n      <td>3.011841e+00</td>\n      <td>2.829308e+00</td>\n      <td>2.829308e+00</td>\n      <td>1.056448e+00</td>\n      <td>1.226859e+00</td>\n    </tr>\n    <tr>\n      <th>std</th>\n      <td>8.256699e+01</td>\n      <td>6.414806e+02</td>\n      <td>4.078034e+02</td>\n      <td>5.653513e+02</td>\n      <td>1.813075e+01</td>\n      <td>1.183337e+00</td>\n      <td>7.360184e+01</td>\n      <td>1.282467e+01</td>\n      <td>1.515525e+01</td>\n      <td>1.135682e+01</td>\n      <td>1.004363e+01</td>\n      <td>6.016790e+01</td>\n      <td>1.193898e+02</td>\n      <td>9.666385e+01</td>\n      <td>9.666385e+01</td>\n      <td>3.217973e+01</td>\n      <td>9.515751e+01</td>\n    </tr>\n    <tr>\n      <th>min</th>\n      <td>0.000000e+00</td>\n      <td>0.000000e+00</td>\n      <td>0.000000e+00</td>\n      <td>0.000000e+00</td>\n      <td>0.000000e+00</td>\n      <td>1.000000e+00</td>\n      <td>0.000000e+00</td>\n      <td>0.000000e+00</td>\n      <td>0.000000e+00</td>\n      <td>0.000000e+00</td>\n      <td>0.000000e+00</td>\n      <td>0.000000e+00</td>\n      <td>0.000000e+00</td>\n      <td>0.000000e+00</td>\n      <td>0.000000e+00</td>\n      <td>0.000000e+00</td>\n      <td>0.000000e+00</td>\n    </tr>\n    <tr>\n      <th>25%</th>\n      <td>2.000000e+00</td>\n      <td>0.000000e+00</td>\n      <td>0.000000e+00</td>\n      <td>0.000000e+00</td>\n      <td>0.000000e+00</td>\n      <td>3.000000e+00</td>\n      <td>0.000000e+00</td>\n      <td>0.000000e+00</td>\n      <td>0.000000e+00</td>\n      <td>0.000000e+00</td>\n      <td>0.000000e+00</td>\n      <td>0.000000e+00</td>\n      <td>0.000000e+00</td>\n      <td>0.000000e+00</td>\n      <td>0.000000e+00</td>\n      <td>0.000000e+00</td>\n      <td>0.000000e+00</td>\n    </tr>\n    <tr>\n      <th>50%</th>\n      <td>5.000000e+00</td>\n      <td>3.000000e+00</td>\n      <td>0.000000e+00</td>\n      <td>0.000000e+00</td>\n      <td>0.000000e+00</td>\n      <td>3.880000e+00</td>\n      <td>0.000000e+00</td>\n      <td>0.000000e+00</td>\n      <td>0.000000e+00</td>\n      <td>0.000000e+00</td>\n      <td>0.000000e+00</td>\n      <td>0.000000e+00</td>\n      <td>0.000000e+00</td>\n      <td>0.000000e+00</td>\n      <td>0.000000e+00</td>\n      <td>0.000000e+00</td>\n      <td>0.000000e+00</td>\n    </tr>\n    <tr>\n      <th>75%</th>\n      <td>1.700000e+01</td>\n      <td>1.300000e+01</td>\n      <td>2.000000e+00</td>\n      <td>3.000000e+00</td>\n      <td>0.000000e+00</td>\n      <td>4.560000e+00</td>\n      <td>0.000000e+00</td>\n      <td>0.000000e+00</td>\n      <td>0.000000e+00</td>\n      <td>0.000000e+00</td>\n      <td>0.000000e+00</td>\n      <td>0.000000e+00</td>\n      <td>0.000000e+00</td>\n      <td>0.000000e+00</td>\n      <td>0.000000e+00</td>\n      <td>0.000000e+00</td>\n      <td>0.000000e+00</td>\n    </tr>\n    <tr>\n      <th>max</th>\n      <td>1.747300e+04</td>\n      <td>2.062960e+05</td>\n      <td>1.858230e+05</td>\n      <td>1.998780e+05</td>\n      <td>1.249700e+04</td>\n      <td>5.000000e+00</td>\n      <td>2.578400e+04</td>\n      <td>1.350100e+04</td>\n      <td>1.418000e+04</td>\n      <td>1.365400e+04</td>\n      <td>1.266900e+04</td>\n      <td>5.903100e+04</td>\n      <td>1.010970e+05</td>\n      <td>4.996700e+04</td>\n      <td>4.996700e+04</td>\n      <td>1.593400e+04</td>\n      <td>8.263000e+04</td>\n    </tr>\n  </tbody>\n</table>\n</div>"
     },
     "execution_count": 15,
     "metadata": {},
     "output_type": "execute_result"
    }
   ],
   "source": [
    "print(f'The shape of the user data: {user_data.shape}')\n",
    "user_data.describe()"
   ]
  },
  {
   "cell_type": "markdown",
   "source": [
    "## Data Cleanup\n",
    "The next major task that needs to be accomplished is a further parsing of specific columns within certain parts of the data set that \n",
    "could be better represented in another, Python-native, format.\n",
    "\n",
    "For example, within the business data file, there is an `attributes` column containing attributes/tags that are voluntarily recommended\n",
    "by business owners. These should be separated out and merged into a new data frame. This is not the only instance in which\n",
    "malformed data is present. All of these instances will be rectified here, and new/separate frames will be generated containing\n",
    "this data in a more-manageable format.\n",
    "\n",
    "\n",
    "**Business Attributes**\n",
    "First, we will work with the `attributes` column in the `business_data` frame. Data in this column is an optional, and often\n",
    "incomplete list of tags that have been explicitly marked with the strings 'True' and 'False' to indicate preference. We will \n",
    "create a new data frame called business_data_attributes that contains all of these attributes as columns, and the individual \n",
    "business ids provided as rows. Data in this new frame will be stored as either 1.0 for True, 0.0 for False, and NaN for an\n",
    "unknown/unprovided value."
   ],
   "metadata": {
    "collapsed": false
   },
   "id": "10658536c44a3c47"
  },
  {
   "cell_type": "code",
   "execution_count": 16,
   "outputs": [
    {
     "data": {
      "text/plain": "                        ByAppointmentOnly  BusinessAcceptsCreditCards  \\\nPns2l4eNsfO8kk83dixA6A                1.0                         NaN   \ntUFrWirKiKi_TAnsVWINQQ                0.0                         1.0   \nMTSW4McQd7CbVtyjqoe9mw                0.0                         0.0   \nCF33F8-E6oudUQ46HnavjQ                0.0                         1.0   \nbBDDEgkFA1Otx9Lfe7BZUQ                0.0                         1.0   \n\n                        BikeParking  RestaurantsPriceRange2  CoatCheck  \\\nPns2l4eNsfO8kk83dixA6A          NaN                     NaN        NaN   \ntUFrWirKiKi_TAnsVWINQQ          1.0                     0.0        0.0   \nMTSW4McQd7CbVtyjqoe9mw          1.0                     0.0        NaN   \nCF33F8-E6oudUQ46HnavjQ          0.0                     0.0        0.0   \nbBDDEgkFA1Otx9Lfe7BZUQ          NaN                     0.0        0.0   \n\n                        RestaurantsTakeOut  RestaurantsDelivery  Caters  WiFi  \\\nPns2l4eNsfO8kk83dixA6A                 NaN                  NaN     NaN   NaN   \ntUFrWirKiKi_TAnsVWINQQ                 0.0                  0.0     0.0   0.0   \nMTSW4McQd7CbVtyjqoe9mw                 1.0                  0.0     1.0   0.0   \nCF33F8-E6oudUQ46HnavjQ                 1.0                  1.0     0.0   0.0   \nbBDDEgkFA1Otx9Lfe7BZUQ                 1.0                  1.0     0.0   0.0   \n\n                        BusinessParking  ...  AcceptsInsurance  BestNights  \\\nPns2l4eNsfO8kk83dixA6A              NaN  ...               NaN         NaN   \ntUFrWirKiKi_TAnsVWINQQ              0.0  ...               NaN         NaN   \nMTSW4McQd7CbVtyjqoe9mw              0.0  ...               NaN         NaN   \nCF33F8-E6oudUQ46HnavjQ              0.0  ...               NaN         NaN   \nbBDDEgkFA1Otx9Lfe7BZUQ              0.0  ...               NaN         NaN   \n\n                        BYOB  Corkage  BYOBCorkage  HairSpecializesIn  \\\nPns2l4eNsfO8kk83dixA6A   NaN      NaN          NaN                NaN   \ntUFrWirKiKi_TAnsVWINQQ   NaN      NaN          NaN                NaN   \nMTSW4McQd7CbVtyjqoe9mw   NaN      NaN          NaN                NaN   \nCF33F8-E6oudUQ46HnavjQ   NaN      NaN          NaN                NaN   \nbBDDEgkFA1Otx9Lfe7BZUQ   NaN      NaN          NaN                NaN   \n\n                        Open24Hours  RestaurantsCounterService  AgesAllowed  \\\nPns2l4eNsfO8kk83dixA6A          NaN                        NaN          NaN   \ntUFrWirKiKi_TAnsVWINQQ          NaN                        NaN          NaN   \nMTSW4McQd7CbVtyjqoe9mw          NaN                        NaN          NaN   \nCF33F8-E6oudUQ46HnavjQ          NaN                        NaN          NaN   \nbBDDEgkFA1Otx9Lfe7BZUQ          NaN                        NaN          NaN   \n\n                        DietaryRestrictions  \nPns2l4eNsfO8kk83dixA6A                  NaN  \ntUFrWirKiKi_TAnsVWINQQ                  NaN  \nMTSW4McQd7CbVtyjqoe9mw                  NaN  \nCF33F8-E6oudUQ46HnavjQ                  NaN  \nbBDDEgkFA1Otx9Lfe7BZUQ                  NaN  \n\n[5 rows x 39 columns]",
      "text/html": "<div>\n<style scoped>\n    .dataframe tbody tr th:only-of-type {\n        vertical-align: middle;\n    }\n\n    .dataframe tbody tr th {\n        vertical-align: top;\n    }\n\n    .dataframe thead th {\n        text-align: right;\n    }\n</style>\n<table border=\"1\" class=\"dataframe\">\n  <thead>\n    <tr style=\"text-align: right;\">\n      <th></th>\n      <th>ByAppointmentOnly</th>\n      <th>BusinessAcceptsCreditCards</th>\n      <th>BikeParking</th>\n      <th>RestaurantsPriceRange2</th>\n      <th>CoatCheck</th>\n      <th>RestaurantsTakeOut</th>\n      <th>RestaurantsDelivery</th>\n      <th>Caters</th>\n      <th>WiFi</th>\n      <th>BusinessParking</th>\n      <th>...</th>\n      <th>AcceptsInsurance</th>\n      <th>BestNights</th>\n      <th>BYOB</th>\n      <th>Corkage</th>\n      <th>BYOBCorkage</th>\n      <th>HairSpecializesIn</th>\n      <th>Open24Hours</th>\n      <th>RestaurantsCounterService</th>\n      <th>AgesAllowed</th>\n      <th>DietaryRestrictions</th>\n    </tr>\n  </thead>\n  <tbody>\n    <tr>\n      <th>Pns2l4eNsfO8kk83dixA6A</th>\n      <td>1.0</td>\n      <td>NaN</td>\n      <td>NaN</td>\n      <td>NaN</td>\n      <td>NaN</td>\n      <td>NaN</td>\n      <td>NaN</td>\n      <td>NaN</td>\n      <td>NaN</td>\n      <td>NaN</td>\n      <td>...</td>\n      <td>NaN</td>\n      <td>NaN</td>\n      <td>NaN</td>\n      <td>NaN</td>\n      <td>NaN</td>\n      <td>NaN</td>\n      <td>NaN</td>\n      <td>NaN</td>\n      <td>NaN</td>\n      <td>NaN</td>\n    </tr>\n    <tr>\n      <th>tUFrWirKiKi_TAnsVWINQQ</th>\n      <td>0.0</td>\n      <td>1.0</td>\n      <td>1.0</td>\n      <td>0.0</td>\n      <td>0.0</td>\n      <td>0.0</td>\n      <td>0.0</td>\n      <td>0.0</td>\n      <td>0.0</td>\n      <td>0.0</td>\n      <td>...</td>\n      <td>NaN</td>\n      <td>NaN</td>\n      <td>NaN</td>\n      <td>NaN</td>\n      <td>NaN</td>\n      <td>NaN</td>\n      <td>NaN</td>\n      <td>NaN</td>\n      <td>NaN</td>\n      <td>NaN</td>\n    </tr>\n    <tr>\n      <th>MTSW4McQd7CbVtyjqoe9mw</th>\n      <td>0.0</td>\n      <td>0.0</td>\n      <td>1.0</td>\n      <td>0.0</td>\n      <td>NaN</td>\n      <td>1.0</td>\n      <td>0.0</td>\n      <td>1.0</td>\n      <td>0.0</td>\n      <td>0.0</td>\n      <td>...</td>\n      <td>NaN</td>\n      <td>NaN</td>\n      <td>NaN</td>\n      <td>NaN</td>\n      <td>NaN</td>\n      <td>NaN</td>\n      <td>NaN</td>\n      <td>NaN</td>\n      <td>NaN</td>\n      <td>NaN</td>\n    </tr>\n    <tr>\n      <th>CF33F8-E6oudUQ46HnavjQ</th>\n      <td>0.0</td>\n      <td>1.0</td>\n      <td>0.0</td>\n      <td>0.0</td>\n      <td>0.0</td>\n      <td>1.0</td>\n      <td>1.0</td>\n      <td>0.0</td>\n      <td>0.0</td>\n      <td>0.0</td>\n      <td>...</td>\n      <td>NaN</td>\n      <td>NaN</td>\n      <td>NaN</td>\n      <td>NaN</td>\n      <td>NaN</td>\n      <td>NaN</td>\n      <td>NaN</td>\n      <td>NaN</td>\n      <td>NaN</td>\n      <td>NaN</td>\n    </tr>\n    <tr>\n      <th>bBDDEgkFA1Otx9Lfe7BZUQ</th>\n      <td>0.0</td>\n      <td>1.0</td>\n      <td>NaN</td>\n      <td>0.0</td>\n      <td>0.0</td>\n      <td>1.0</td>\n      <td>1.0</td>\n      <td>0.0</td>\n      <td>0.0</td>\n      <td>0.0</td>\n      <td>...</td>\n      <td>NaN</td>\n      <td>NaN</td>\n      <td>NaN</td>\n      <td>NaN</td>\n      <td>NaN</td>\n      <td>NaN</td>\n      <td>NaN</td>\n      <td>NaN</td>\n      <td>NaN</td>\n      <td>NaN</td>\n    </tr>\n  </tbody>\n</table>\n<p>5 rows × 39 columns</p>\n</div>"
     },
     "execution_count": 16,
     "metadata": {},
     "output_type": "execute_result"
    }
   ],
   "source": [
    "# Step 1: Creating data dictionary\n",
    "attribute_dict = {}\n",
    "for idx, row in business_data.iterrows():\n",
    "    if row['attributes'] is not None:\n",
    "        for key, value in row['attributes'].items():\n",
    "            if isinstance(value, str):\n",
    "                value = float(value.lower() == 'true')\n",
    "            if key not in attribute_dict:\n",
    "                attribute_dict[key] = {}\n",
    "            attribute_dict[key][row['business_id']] = float(value)\n",
    "# Step 2: Create DataFrame from Dictionary and Concatenate\n",
    "dfs = []\n",
    "for col, data_dict in attribute_dict.items():\n",
    "    temp_df = pd.DataFrame.from_dict(data_dict, orient='index', columns=[col], dtype=pd.SparseDtype('float', np.nan))\n",
    "    dfs.append(temp_df)\n",
    "    \n",
    "business_data_attributes = pd.concat(dfs, axis=1)\n",
    "    \n",
    "business_data_attributes.head()"
   ],
   "metadata": {
    "collapsed": false,
    "ExecuteTime": {
     "end_time": "2023-09-25T18:42:36.465277100Z",
     "start_time": "2023-09-25T18:42:30.475981200Z"
    }
   },
   "id": "e12612ea4e601929"
  },
  {
   "cell_type": "markdown",
   "source": [
    "In order to get some simple statistics regarding the data, we can use Pandas filtering. Here we will look for the total number of attributes and how many businesses have marked themselves as \n",
    "having this attribute."
   ],
   "metadata": {
    "collapsed": false
   },
   "id": "416909d299a7aa45"
  },
  {
   "cell_type": "code",
   "execution_count": 17,
   "outputs": [
    {
     "name": "stdout",
     "output_type": "stream",
     "text": [
      "There are 39 attributes.\n",
      "There are 15 empty attributes.\n",
      "The BusinessAcceptsCreditCards attribute is the most popular, with 113667 businesses.\n"
     ]
    },
    {
     "data": {
      "text/plain": "          Attribute  Business Count\n0  AcceptsInsurance            3938\n1       AgesAllowed               0\n2           Alcohol               0\n3          Ambience               0\n4              BYOB            1002",
      "text/html": "<div>\n<style scoped>\n    .dataframe tbody tr th:only-of-type {\n        vertical-align: middle;\n    }\n\n    .dataframe tbody tr th {\n        vertical-align: top;\n    }\n\n    .dataframe thead th {\n        text-align: right;\n    }\n</style>\n<table border=\"1\" class=\"dataframe\">\n  <thead>\n    <tr style=\"text-align: right;\">\n      <th></th>\n      <th>Attribute</th>\n      <th>Business Count</th>\n    </tr>\n  </thead>\n  <tbody>\n    <tr>\n      <th>0</th>\n      <td>AcceptsInsurance</td>\n      <td>3938</td>\n    </tr>\n    <tr>\n      <th>1</th>\n      <td>AgesAllowed</td>\n      <td>0</td>\n    </tr>\n    <tr>\n      <th>2</th>\n      <td>Alcohol</td>\n      <td>0</td>\n    </tr>\n    <tr>\n      <th>3</th>\n      <td>Ambience</td>\n      <td>0</td>\n    </tr>\n    <tr>\n      <th>4</th>\n      <td>BYOB</td>\n      <td>1002</td>\n    </tr>\n  </tbody>\n</table>\n</div>"
     },
     "execution_count": 17,
     "metadata": {},
     "output_type": "execute_result"
    }
   ],
   "source": [
    "business_attribute_counts = business_data_attributes[business_data_attributes == 1.0].count().sort_index().reset_index()\n",
    "business_attribute_counts.columns = ['Attribute', 'Business Count']\n",
    "print(f'There are {business_attribute_counts.shape[0]} attributes.')\n",
    "print(f'There are {(business_attribute_counts[\"Business Count\"] == 0).sum()} empty attributes.')\n",
    "\n",
    "max_attr = business_attribute_counts.loc[business_attribute_counts[\"Business Count\"] == business_attribute_counts[\"Business Count\"].max(), \"Attribute\"]\n",
    "print(f'The {max_attr.iloc[0]} attribute is the most popular, with {business_attribute_counts[\"Business Count\"].max()} businesses.')\n",
    "business_attribute_counts.head()"
   ],
   "metadata": {
    "collapsed": false,
    "ExecuteTime": {
     "end_time": "2023-09-25T18:42:36.595358400Z",
     "start_time": "2023-09-25T18:42:36.454313500Z"
    }
   },
   "id": "3425a30598f40c34"
  },
  {
   "cell_type": "code",
   "execution_count": 17,
   "outputs": [],
   "source": [],
   "metadata": {
    "collapsed": false,
    "ExecuteTime": {
     "end_time": "2023-09-25T18:42:36.641206300Z",
     "start_time": "2023-09-25T18:42:36.594361700Z"
    }
   },
   "id": "5e1d24101a3726ca"
  }
 ],
 "metadata": {
  "kernelspec": {
   "display_name": "Python 3 (ipykernel)",
   "language": "python",
   "name": "python3"
  },
  "language_info": {
   "codemirror_mode": {
    "name": "ipython",
    "version": 3
   },
   "file_extension": ".py",
   "mimetype": "text/x-python",
   "name": "python",
   "nbconvert_exporter": "python",
   "pygments_lexer": "ipython3",
   "version": "3.10.13"
  }
 },
 "nbformat": 4,
 "nbformat_minor": 5
}
